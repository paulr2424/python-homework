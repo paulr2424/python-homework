{
 "cells": [
  {
   "cell_type": "code",
   "execution_count": 5,
   "id": "2d565bf3-9bc7-4b04-847b-1d0bcbaf7255",
   "metadata": {},
   "outputs": [],
   "source": [
    "import pandas as pd \n",
    "import csv \n",
    "from pathlib import Path "
   ]
  },
  {
   "cell_type": "code",
   "execution_count": 10,
   "id": "89086e92-fa73-476c-a0c1-5e7ee4d9396d",
   "metadata": {},
   "outputs": [
    {
     "name": "stdout",
     "output_type": "stream",
     "text": [
      "   Unnamed: 0  Unnamed: 0.1      Date  Profit/Losses\n",
      "0           0             0  Jan-2010         867884\n",
      "1           1             1  Feb-2010         984655\n",
      "2           2             2  Mar-2010         322013\n",
      "3           3             3  Apr-2010         -69417\n",
      "4           4             4  May-2010         310503\n"
     ]
    }
   ],
   "source": [
    "path_1 = Path(\"Desktop/repos/ASU-HW/Home Work/02-Python/Instructions/PyBank/Resources/budget_data.csv\")\n",
    "budget_data = pd.read_csv(path_1)\n",
    "print(budget_data.head())"
   ]
  },
  {
   "cell_type": "code",
   "execution_count": 11,
   "id": "ea3c2095-5b42-4255-b976-ecb4d187f8c7",
   "metadata": {},
   "outputs": [],
   "source": [
    "num_months=0\n",
    "net_total = 0\n",
    "average = 0\n",
    "greatest_increase = 0\n",
    "greatest_decrease = 0"
   ]
  },
  {
   "cell_type": "code",
   "execution_count": 12,
   "id": "43510bf4-2308-434c-a9d0-3877c4105d53",
   "metadata": {},
   "outputs": [],
   "source": [
    "num_months = budget_data['Date'].count()\n",
    "net_total = budget_data['Profit/Losses'].sum()\n",
    "average = budget_data['Profit/Losses'].mean()\n",
    "greatest_increase = budget_data['Profit/Losses'].max()\n",
    "greatest_decrease = budget_data['Profit/Losses'].min()"
   ]
  },
  {
   "cell_type": "code",
   "execution_count": 13,
   "id": "48c633fd-09fc-424e-a3ad-102e4f5b5b6e",
   "metadata": {},
   "outputs": [],
   "source": [
    "max_profit_time = budget_data['Profit/Losses'].idxmax()\n",
    "max_loss_time = budget_data['Profit/Losses'].idxmin()"
   ]
  },
  {
   "cell_type": "code",
   "execution_count": 14,
   "id": "ff8ea81c-8f53-410b-a92c-a146a7bcb57f",
   "metadata": {},
   "outputs": [
    {
     "name": "stdout",
     "output_type": "stream",
     "text": [
      "Financial Analysis\n",
      "----------------------------------------------------------------------\n",
      "Total Months : 86\n",
      "Total: $38382578\n",
      "Average Change : $446309\n",
      "Greatest Increase in Profits: 1170593 on 25\n",
      "The greatest decrease in losses were -1196225 on 44\n"
     ]
    }
   ],
   "source": [
    "print(\"Financial Analysis\")\n",
    "print(\"----------------------------------------------------------------------\")\n",
    "print('Total Months : ' + str(num_months))\n",
    "print('Total: $' + str(net_total))\n",
    "print('Average Change : $'+ (str(round(average))))\n",
    "print('Greatest Increase in Profits: '+ str(greatest_increase)+' on '+str(max_profit_time))\n",
    "print('The greatest decrease in losses were '+ str(greatest_decrease)+' on '+str(max_loss_time))\n"
   ]
  },
  {
   "cell_type": "code",
   "execution_count": null,
   "id": "ebc8e469-51ba-4854-bc03-5a65b2ee9ebe",
   "metadata": {},
   "outputs": [],
   "source": []
  }
 ],
 "metadata": {
  "kernelspec": {
   "display_name": "Python 3",
   "language": "python",
   "name": "python3"
  },
  "language_info": {
   "codemirror_mode": {
    "name": "ipython",
    "version": 3
   },
   "file_extension": ".py",
   "mimetype": "text/x-python",
   "name": "python",
   "nbconvert_exporter": "python",
   "pygments_lexer": "ipython3",
   "version": "3.8.8"
  }
 },
 "nbformat": 4,
 "nbformat_minor": 5
}
